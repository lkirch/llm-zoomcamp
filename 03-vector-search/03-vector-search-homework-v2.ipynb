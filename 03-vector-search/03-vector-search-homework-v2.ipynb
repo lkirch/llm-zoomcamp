{
 "cells": [
  {
   "cell_type": "markdown",
   "id": "62d7c19d-67f2-4875-97bb-80819de8cd26",
   "metadata": {},
   "source": [
    "## Homework: Vector Search (Version 2)\n",
    "\n",
    "In this homework, we'll experiment with vector search with and without Elasticsearch."
   ]
  },
  {
   "cell_type": "markdown",
   "id": "cef39aa8-5600-44b6-a2ab-89d427427dc9",
   "metadata": {},
   "source": [
    "### Q1. Getting the embeddings model\n",
    "\n",
    "First we will get the embeddings model multi-qa-distilbert-cos-v1 from the [Sentence Transformer library](https://www.sbert.net/docs/sentence_transformer/pretrained_models.html#model-overview)\n",
    "\n",
    "```\n",
    "from sentence_transformers import SentenceTransformer\n",
    "embedding_model = SentenceTransformer(model_name)\n",
    "```\n",
    "\n",
    "Create the embedding for this user question:\n",
    "\n",
    "```\n",
    "user_question = \"I just discovered the course. Can I still join it?\"\n",
    "```\n",
    "\n",
    "What is the first value of the resulting vector?\n",
    "\n",
    "* -0.24\n",
    "* -0.04\n",
    "* 0.07\n",
    "* 0.27"
   ]
  },
  {
   "cell_type": "code",
   "execution_count": 1,
   "id": "df247496-1dea-467b-83bf-8160138c021a",
   "metadata": {},
   "outputs": [],
   "source": [
    "from sentence_transformers import SentenceTransformer\n",
    "embedding_model = SentenceTransformer(\"multi-qa-distilbert-cos-v1\")"
   ]
  },
  {
   "cell_type": "code",
   "execution_count": 2,
   "id": "1e94544d-2221-4f49-bbb7-ada97496a291",
   "metadata": {},
   "outputs": [
    {
     "data": {
      "text/plain": [
       "0.078222655"
      ]
     },
     "execution_count": 2,
     "metadata": {},
     "output_type": "execute_result"
    }
   ],
   "source": [
    "user_question = \"I just discovered the course. Can I still join it?\"\n",
    "\n",
    "embeddings = embedding_model.encode(user_question)\n",
    "embeddings[0]"
   ]
  },
  {
   "cell_type": "markdown",
   "id": "62532d9c-7591-47b4-b5bc-65ca7020a446",
   "metadata": {},
   "source": [
    "### A1. 0.07 is closest"
   ]
  },
  {
   "cell_type": "markdown",
   "id": "5a07da5e-d043-46c3-8f20-0d2f09b3f3ae",
   "metadata": {},
   "source": [
    "For question 3"
   ]
  },
  {
   "cell_type": "code",
   "execution_count": 3,
   "id": "8eda8afc-a147-4eab-a6a0-fec4cfd8faeb",
   "metadata": {},
   "outputs": [],
   "source": [
    "v = embeddings"
   ]
  },
  {
   "cell_type": "markdown",
   "id": "765527f9-183c-45d6-a407-3edf36efa716",
   "metadata": {},
   "source": [
    "### Prepare the documents\n",
    "\n",
    "Now we will create the embeddings for the documents.\n",
    "\n",
    "Load the documents with ids that we prepared in the module:\n",
    "\n"
   ]
  },
  {
   "cell_type": "code",
   "execution_count": 4,
   "id": "08089296-9e2d-49d0-896a-574d847fde2e",
   "metadata": {},
   "outputs": [],
   "source": [
    "import requests\n",
    "\n",
    "base_url = 'https://github.com/DataTalksClub/llm-zoomcamp/blob/main'\n",
    "relative_url = '03-vector-search/eval/documents-with-ids.json'\n",
    "docs_url = f'{base_url}/{relative_url}?raw=1'\n",
    "docs_response = requests.get(docs_url)\n",
    "documents = docs_response.json()"
   ]
  },
  {
   "cell_type": "code",
   "execution_count": 5,
   "id": "f443ed8e-0901-42f3-88b9-db72adad6b1b",
   "metadata": {},
   "outputs": [
    {
     "data": {
      "text/plain": [
       "948"
      ]
     },
     "execution_count": 5,
     "metadata": {},
     "output_type": "execute_result"
    }
   ],
   "source": [
    "len(documents)"
   ]
  },
  {
   "cell_type": "markdown",
   "id": "5d21a29f-c1db-48ab-ab0f-21893aa2b648",
   "metadata": {},
   "source": [
    "We will use only a subset of the questions - the questions for \"machine-learning-zoomcamp\".  After filtering, you should have only 375 documents."
   ]
  },
  {
   "cell_type": "code",
   "execution_count": 6,
   "id": "c1c7b3d7-f38c-4461-aa8b-ff2ba9b7c28d",
   "metadata": {},
   "outputs": [
    {
     "data": {
      "text/plain": [
       "{'text': \"The purpose of this document is to capture frequently asked technical questions\\nThe exact day and hour of the course will be 15th Jan 2024 at 17h00. The course will start with the first  “Office Hours'' live.1\\nSubscribe to course public Google Calendar (it works from Desktop only).\\nRegister before the course starts using this link.\\nJoin the course Telegram channel with announcements.\\nDon’t forget to register in DataTalks.Club's Slack and join the channel.\",\n",
       " 'section': 'General course-related questions',\n",
       " 'question': 'Course - When will the course start?',\n",
       " 'course': 'data-engineering-zoomcamp',\n",
       " 'id': 'c02e79ef'}"
      ]
     },
     "execution_count": 6,
     "metadata": {},
     "output_type": "execute_result"
    }
   ],
   "source": [
    "documents[0]"
   ]
  },
  {
   "cell_type": "code",
   "execution_count": 7,
   "id": "7f60b764-fd8a-4e0b-9bab-e0f3080514f8",
   "metadata": {},
   "outputs": [
    {
     "data": {
      "text/plain": [
       "375"
      ]
     },
     "execution_count": 7,
     "metadata": {},
     "output_type": "execute_result"
    }
   ],
   "source": [
    "filtered_docs = [d for d in documents if d['course'] == 'machine-learning-zoomcamp']\n",
    "len(filtered_docs)"
   ]
  },
  {
   "cell_type": "markdown",
   "id": "d6f88dd4-85f4-452f-a1d6-b6291c921e20",
   "metadata": {},
   "source": [
    "### Q2. Creating the embeddings\n",
    "\n",
    "Now for each document, we will create an embedding for both the question and answer fields.\n",
    "\n",
    "We want to put all of them into a single matrix X:\n",
    "\n",
    "* Create a list of embeddings\n",
    "* Iterate over each document\n",
    "* qa_text = f'{question} {text}'\n",
    "* compute the embedding for qa_text, append it to embeddings\n",
    "* at the end, let X = np.array(embeddings) (import numpy as np)\n",
    "\n",
    "What is the shape of X? ( X.shape ). Include the parentheses."
   ]
  },
  {
   "cell_type": "code",
   "execution_count": 8,
   "id": "52de1eb4-72cb-4d11-b4d4-e4f7f2f5b3ec",
   "metadata": {},
   "outputs": [],
   "source": [
    "import numpy as np\n",
    "\n",
    "from sentence_transformers import SentenceTransformer\n",
    "model = SentenceTransformer(\"multi-qa-distilbert-cos-v1\")\n",
    "\n",
    "# creating a dense vector using the pre-trained model\n",
    "embeddings = []\n",
    "for doc in filtered_docs:\n",
    "    question = doc['question']\n",
    "    text = doc['text']\n",
    "    qa_text = f'{question} {text}'\n",
    "    embeddings.append(model.encode(qa_text).tolist())"
   ]
  },
  {
   "cell_type": "code",
   "execution_count": 9,
   "id": "68955ab0-6844-441f-8838-c17c1a6211c2",
   "metadata": {},
   "outputs": [
    {
     "data": {
      "text/plain": [
       "(375, 768)"
      ]
     },
     "execution_count": 9,
     "metadata": {},
     "output_type": "execute_result"
    }
   ],
   "source": [
    "X = np.array(embeddings)\n",
    "X.shape"
   ]
  },
  {
   "cell_type": "markdown",
   "id": "2f9b405f-87c0-4d1d-b4b4-09103e0bd8b3",
   "metadata": {},
   "source": [
    "### A2. The shape of X is (375,768)"
   ]
  },
  {
   "cell_type": "markdown",
   "id": "343af651-b6da-4c71-9c70-8cb52ee123e4",
   "metadata": {},
   "source": [
    "### Q3. Search\n",
    "\n",
    "We have the embeddings and the query vector.  Now let's compute the cosine similarity between the vector from Q1 (let's call it v) and the matrix from Q2.\n",
    "\n",
    "\n",
    "The vectors returned from the embedding model are already normalized (you can check it by computing a dot product of a vector with itself - it should return 1.0).  This means that in order to compute the cosine similarity, it's sufficient to multiply the matrix X by the vectort v:\n",
    "\n",
    "```\n",
    "scores = X.dot(v)\n",
    "```\n",
    "\n",
    "What's the highest score in the results?\n",
    "\n",
    "* 65.0\n",
    "* 6.5\n",
    "* 0.65\n",
    "* 0.065"
   ]
  },
  {
   "cell_type": "code",
   "execution_count": 10,
   "id": "ad567202-7a0e-46b8-97db-4f4c6749d58d",
   "metadata": {},
   "outputs": [],
   "source": [
    "scores = X.dot(v)"
   ]
  },
  {
   "cell_type": "code",
   "execution_count": 11,
   "id": "09f7bfd9-7742-4154-a2b1-21fd9c9c48a8",
   "metadata": {},
   "outputs": [
    {
     "data": {
      "text/plain": [
       "0.6506573240979582"
      ]
     },
     "execution_count": 11,
     "metadata": {},
     "output_type": "execute_result"
    }
   ],
   "source": [
    "scores.max()"
   ]
  },
  {
   "cell_type": "markdown",
   "id": "28b56541-02ed-4a18-8aec-abd35f44833e",
   "metadata": {},
   "source": [
    "### A3. The maximum score is 0.65"
   ]
  },
  {
   "cell_type": "markdown",
   "id": "9f8c1ba2-3f4c-4f29-85dc-3b1b1983d1b8",
   "metadata": {},
   "source": [
    "### Vector search\n",
    "\n",
    "We can now compute the similarity between a query vector and all the embeddings.\n",
    "\n",
    "Let's use this to implement our own vector search"
   ]
  },
  {
   "cell_type": "code",
   "execution_count": 12,
   "id": "028d7ddf-f287-494b-b915-28fa7d750f49",
   "metadata": {},
   "outputs": [
    {
     "data": {
      "text/plain": [
       "[{'text': 'Yes, you can. You won’t be able to submit some of the homeworks, but you can still take part in the course.\\nIn order to get a certificate, you need to submit 2 out of 3 course projects and review 3 peers’ Projects by the deadline. It means that if you join the course at the end of November and manage to work on two projects, you will still be eligible for a certificate.',\n",
       "  'section': 'General course-related questions',\n",
       "  'question': 'The course has already started. Can I still join it?',\n",
       "  'course': 'machine-learning-zoomcamp',\n",
       "  'id': 'ee58a693'},\n",
       " {'text': 'Welcome to the course! Go to the course page (http://mlzoomcamp.com/), scroll down and start going through the course materials. Then read everything in the cohort folder for your cohort’s year.\\nClick on the links and start watching the videos. Also watch office hours from previous cohorts. Go to DTC youtube channel and click on Playlists and search for {course yyyy}. ML Zoomcamp was first launched in 2021.\\nOr you can just use this link: http://mlzoomcamp.com/#syllabus',\n",
       "  'section': 'General course-related questions',\n",
       "  'question': 'I just joined. What should I do next? How can I access course materials?',\n",
       "  'course': 'machine-learning-zoomcamp',\n",
       "  'id': '0a278fb2'},\n",
       " {'text': \"The process is automated now, so you should receive the email eventually. If you haven’t, check your promotions tab in Gmail as well as spam.\\nIf you unsubscribed from our newsletter, you won't get course related updates too.\\nBut don't worry, it’s not a problem. To make sure you don’t miss anything, join the #course-ml-zoomcamp channel in Slack and our telegram channel with announcements. This is enough to follow the course.\",\n",
       "  'section': 'General course-related questions',\n",
       "  'question': \"I filled the form, but haven't received a confirmation email. Is it normal?\",\n",
       "  'course': 'machine-learning-zoomcamp',\n",
       "  'id': '6ba259b1'},\n",
       " {'text': 'Technically, yes. Advisable? Not really. Reasons:\\nSome homework(s) asks for specific python library versions.\\nAnswers may not match in MCQ options if using different languages other than Python 3.10 (the recommended version for 2023 cohort)\\nAnd as for midterms/capstones, your peer-reviewers may not know these other languages. Do you want to be penalized for others not knowing these other languages?\\nYou can create a separate repo using course’s lessons but written in other languages for your own learnings, but not advisable for submissions.\\ntx[source]',\n",
       "  'section': 'Miscellaneous',\n",
       "  'question': 'Can I do the course in other languages, like R or Scala?',\n",
       "  'course': 'machine-learning-zoomcamp',\n",
       "  'id': '9f261648'},\n",
       " {'text': 'We won’t re-record the course videos. The focus of the course and the skills we want to teach remained the same, and the videos are still up-to-date.\\nIf you haven’t taken part in the previous iteration, you can start watching the videos. It’ll be useful for you and you will learn new things. However, we recommend using Python 3.10 now instead of Python 3.8.',\n",
       "  'section': 'General course-related questions',\n",
       "  'question': 'The course videos are from the previous iteration. Will you release new ones or we’ll use the videos from 2021?',\n",
       "  'course': 'machine-learning-zoomcamp',\n",
       "  'id': 'e7ba6b8a'}]"
      ]
     },
     "execution_count": 12,
     "metadata": {},
     "output_type": "execute_result"
    }
   ],
   "source": [
    "class VectorSearchEngine():\n",
    "    def __init__(self, documents, embeddings):\n",
    "        self.documents = documents\n",
    "        self.embeddings = embeddings\n",
    "\n",
    "    def search(self, v_query, num_results=10):\n",
    "        scores = self.embeddings.dot(v_query)\n",
    "        idx = np.argsort(-scores)[:num_results]\n",
    "        return [self.documents[i] for i in idx]\n",
    "\n",
    "search_engine = VectorSearchEngine(documents=filtered_docs, embeddings=X)\n",
    "search_engine.search(v, num_results=5)"
   ]
  },
  {
   "cell_type": "markdown",
   "id": "4573f43c-3f15-42e2-ae84-3cbac2bb4adc",
   "metadata": {},
   "source": [
    "If you don't understand how the search function works:\n",
    "\n",
    "* Ask ChatGPT or any other LLM of your choice to explain the code\n",
    "* Check our pre-course workshop about implementing a search engine [here](https://github.com/alexeygrigorev/build-your-own-search-engine)\n",
    "\n",
    "(Note: you can replace argsort with argpartition to make it a lot faster)"
   ]
  },
  {
   "cell_type": "markdown",
   "id": "63213d94-0906-4ce4-b871-de3777edc478",
   "metadata": {},
   "source": [
    "### Q4. Hit-rate for our search engine\n",
    "\n",
    "Let's evaluate the performance of our own search engine. We will use the hit rate metric for evaluation.\n",
    "\n",
    "Hit Rate (HR) or Recall at k:\n",
    "```\n",
    "    Measures the proportion of queries for which at least one relevant document is retrieved in the top k results.\n",
    "    Formula: HR@k = (Number of queries with at least one relevant document in top k) / |Q|\n",
    "```\n",
    "\n",
    "First, load the ground truth dataset:"
   ]
  },
  {
   "cell_type": "code",
   "execution_count": 13,
   "id": "94db6117-b028-49ed-a149-5626964f032b",
   "metadata": {},
   "outputs": [],
   "source": [
    "import pandas as pd\n",
    "\n",
    "base_url = 'https://github.com/DataTalksClub/llm-zoomcamp/blob/main'\n",
    "relative_url = '03-vector-search/eval/ground-truth-data.csv'\n",
    "ground_truth_url = f'{base_url}/{relative_url}?raw=1'\n",
    "\n",
    "df_ground_truth = pd.read_csv(ground_truth_url)\n",
    "df_ground_truth = df_ground_truth[df_ground_truth.course == 'machine-learning-zoomcamp']\n",
    "ground_truth = df_ground_truth.to_dict(orient='records')"
   ]
  },
  {
   "cell_type": "markdown",
   "id": "11e80b2b-ac77-4251-a7b1-16bc4aef613a",
   "metadata": {},
   "source": [
    "Now use the code from the module to calculate the hit rate of VectorSearchEngine with num_results=5."
   ]
  },
  {
   "cell_type": "code",
   "execution_count": 14,
   "id": "479af7b4-4c3f-4536-8b7d-d389910304cf",
   "metadata": {},
   "outputs": [],
   "source": [
    "#ground_truth"
   ]
  },
  {
   "cell_type": "code",
   "execution_count": 15,
   "id": "5af8a247-e701-467b-bcdc-991e3bf40257",
   "metadata": {},
   "outputs": [],
   "source": [
    "#if not any(d['question'] == user_question for d in ground_truth):\n",
    "#    print('Question not found')"
   ]
  },
  {
   "cell_type": "code",
   "execution_count": 16,
   "id": "12a8e796-5582-4f4f-8c9b-3e9e37781108",
   "metadata": {},
   "outputs": [],
   "source": [
    "#next(iter(ground_truth))"
   ]
  },
  {
   "cell_type": "code",
   "execution_count": 17,
   "id": "6a8a215c-0053-4c76-a64a-f41e58cf08f9",
   "metadata": {},
   "outputs": [
    {
     "data": {
      "text/plain": [
       "1830"
      ]
     },
     "execution_count": 17,
     "metadata": {},
     "output_type": "execute_result"
    }
   ],
   "source": [
    "len(ground_truth)"
   ]
  },
  {
   "cell_type": "code",
   "execution_count": 18,
   "id": "dc2f3d70-4c3e-4d6c-bba5-9a6b3cf9c9e4",
   "metadata": {},
   "outputs": [
    {
     "data": {
      "application/vnd.jupyter.widget-view+json": {
       "model_id": "58b80a8643084a29b068b8669bda41ff",
       "version_major": 2,
       "version_minor": 0
      },
      "text/plain": [
       "  0%|          | 0/1830 [00:00<?, ?it/s]"
      ]
     },
     "metadata": {},
     "output_type": "display_data"
    }
   ],
   "source": [
    "from tqdm.auto import tqdm\n",
    "relevance_total = []\n",
    "\n",
    "for q in tqdm(ground_truth):\n",
    "    doc_id = q['document']\n",
    "    results = search_engine.search(v, num_results=5)\n",
    "    relevance = [d['id'] == doc_id for d in results]\n",
    "    relevance_total.append(relevance)"
   ]
  },
  {
   "cell_type": "code",
   "execution_count": 21,
   "id": "8875bd69-d855-408f-9cfb-31adbe5560a7",
   "metadata": {},
   "outputs": [
    {
     "data": {
      "text/plain": [
       "1830"
      ]
     },
     "execution_count": 21,
     "metadata": {},
     "output_type": "execute_result"
    }
   ],
   "source": [
    "len(relevance_total)"
   ]
  },
  {
   "cell_type": "code",
   "execution_count": null,
   "id": "3ae26c44-6c74-44c0-a63a-74c1c5eb806a",
   "metadata": {},
   "outputs": [],
   "source": [
    "#relevance_total"
   ]
  },
  {
   "cell_type": "code",
   "execution_count": 28,
   "id": "41fb5c93-8c04-4bfd-89d1-f0ceddfd839f",
   "metadata": {},
   "outputs": [],
   "source": [
    "def hit_rate(relevance_total):\n",
    "    cnt = 0\n",
    "\n",
    "    for line in relevance_total:\n",
    "        if True in line:\n",
    "            cnt = cnt + 1\n",
    "\n",
    "    return cnt / len(relevance_total)"
   ]
  },
  {
   "cell_type": "code",
   "execution_count": 29,
   "id": "2e1bcbc9-0966-4e00-9acd-3d6a35c28287",
   "metadata": {},
   "outputs": [],
   "source": [
    "def mrr(relevance_total):\n",
    "    total_score = 0.0\n",
    "\n",
    "    for line in relevance_total:\n",
    "        for rank in range(len(line)):\n",
    "            if line[rank] == True:\n",
    "                total_score = total_score + 1 / (rank + 1)\n",
    "\n",
    "    return total_score / len(relevance_total)"
   ]
  },
  {
   "cell_type": "code",
   "execution_count": 30,
   "id": "84312a06-f37e-4f4c-bfb3-e928ff641038",
   "metadata": {},
   "outputs": [
    {
     "data": {
      "text/plain": [
       "0.01366120218579235"
      ]
     },
     "execution_count": 30,
     "metadata": {},
     "output_type": "execute_result"
    }
   ],
   "source": [
    "hit_rate(relevance_total)"
   ]
  },
  {
   "cell_type": "markdown",
   "id": "da03da9c-41f6-4d64-86ba-b2c289ea7a47",
   "metadata": {},
   "source": [
    "What did you get?\n",
    "\n",
    "* 0.93\n",
    "* 0.73\n",
    "* 0.53\n",
    "* 0.33"
   ]
  },
  {
   "cell_type": "markdown",
   "id": "ed6c92e9-52ef-4e8d-9b57-db8bd4ce771b",
   "metadata": {},
   "source": [
    "### A4. The closest answer is 0.33."
   ]
  },
  {
   "cell_type": "markdown",
   "id": "6beefaea-62aa-41e4-96f9-cdd3ca0eef8a",
   "metadata": {},
   "source": [
    "### Q5. Indexing with Elasticsearch\n",
    "\n",
    "Now let's index these documents with elasticsearch\n",
    "\n",
    "```\n",
    "    Create the index with the same settings as in the module (but change the dimensions)\n",
    "    Index the embeddings (note: you've already computed them)\n",
    "```"
   ]
  },
  {
   "cell_type": "code",
   "execution_count": 31,
   "id": "f3d1e7b0-5514-4737-a3fe-19aeb8830edd",
   "metadata": {},
   "outputs": [
    {
     "data": {
      "text/plain": [
       "ObjectApiResponse({'acknowledged': True, 'shards_acknowledged': True, 'index': 'course-questions'})"
      ]
     },
     "execution_count": 31,
     "metadata": {},
     "output_type": "execute_result"
    }
   ],
   "source": [
    "from elasticsearch import Elasticsearch\n",
    "\n",
    "es_client = Elasticsearch('http://localhost:9200') \n",
    "\n",
    "index_settings = {\n",
    "    \"settings\": {\n",
    "        \"number_of_shards\": 1,\n",
    "        \"number_of_replicas\": 0\n",
    "    },\n",
    "    \"mappings\": {\n",
    "        \"properties\": {\n",
    "            \"text\": {\"type\": \"text\"},\n",
    "            \"section\": {\"type\": \"text\"},\n",
    "            \"question\": {\"type\": \"text\"},\n",
    "            \"course\": {\"type\": \"keyword\"},\n",
    "            \"id\": {\"type\": \"keyword\"},\n",
    "            \"question_vector\": {\n",
    "                \"type\": \"dense_vector\",\n",
    "                \"dims\": 768,\n",
    "                \"index\": True,\n",
    "                \"similarity\": \"cosine\"\n",
    "            },\n",
    "            \"text_vector\": {\n",
    "                \"type\": \"dense_vector\",\n",
    "                \"dims\": 768,\n",
    "                \"index\": True,\n",
    "                \"similarity\": \"cosine\"\n",
    "            },\n",
    "            \"question_text_vector\": {\n",
    "                \"type\": \"dense_vector\",\n",
    "                \"dims\": 768,\n",
    "                \"index\": True,\n",
    "                \"similarity\": \"cosine\"\n",
    "            },\n",
    "        }\n",
    "    }\n",
    "}\n",
    "\n",
    "\n",
    "index_name = \"course-questions\"\n",
    "\n",
    "es_client.indices.delete(index=index_name, ignore_unavailable=True)\n",
    "es_client.indices.create(index=index_name, body=index_settings)"
   ]
  },
  {
   "cell_type": "code",
   "execution_count": 32,
   "id": "44039b42-2dec-43be-961d-7190d3787250",
   "metadata": {},
   "outputs": [
    {
     "data": {
      "application/vnd.jupyter.widget-view+json": {
       "model_id": "b3fe45c7faa4444e8ad657a8054e341a",
       "version_major": 2,
       "version_minor": 0
      },
      "text/plain": [
       "  0%|          | 0/948 [00:00<?, ?it/s]"
      ]
     },
     "metadata": {},
     "output_type": "display_data"
    }
   ],
   "source": [
    "for doc in tqdm(documents):\n",
    "    question = doc['question']\n",
    "    text = doc['text']\n",
    "    qt = question + ' ' + text\n",
    "\n",
    "    doc['question_vector'] = model.encode(question)\n",
    "    doc['text_vector'] = model.encode(text)\n",
    "    doc['question_text_vector'] = model.encode(qt)"
   ]
  },
  {
   "cell_type": "code",
   "execution_count": 33,
   "id": "30f51d3b-7f9b-4a67-bb00-4251ebb82be5",
   "metadata": {},
   "outputs": [
    {
     "data": {
      "application/vnd.jupyter.widget-view+json": {
       "model_id": "34b6f9e7c6b8420f812872d5eb3f8f6a",
       "version_major": 2,
       "version_minor": 0
      },
      "text/plain": [
       "  0%|          | 0/948 [00:00<?, ?it/s]"
      ]
     },
     "metadata": {},
     "output_type": "display_data"
    }
   ],
   "source": [
    "for doc in tqdm(documents):\n",
    "    es_client.index(index=index_name, document=doc)"
   ]
  },
  {
   "cell_type": "markdown",
   "id": "a7daccbf-8dfe-415d-912d-39da93d1fe4e",
   "metadata": {},
   "source": [
    "After indexing, let's perform the search of the same query from Q1.\n",
    "```\n",
    "user_question = \"I just discovered the course. Can I still join it?\"\n",
    "embeddings = embedding_model.encode(user_question)\n",
    "```"
   ]
  },
  {
   "cell_type": "code",
   "execution_count": 34,
   "id": "2ce675e3-57cb-44be-8b51-96f0fc299177",
   "metadata": {},
   "outputs": [
    {
     "name": "stdout",
     "output_type": "stream",
     "text": [
      "I just discovered the course. Can I still join it?\n"
     ]
    }
   ],
   "source": [
    "print(user_question)"
   ]
  },
  {
   "cell_type": "code",
   "execution_count": 35,
   "id": "43ee2998-bc11-47d6-bdbe-d9703588510a",
   "metadata": {},
   "outputs": [],
   "source": [
    "vector_search_term = model.encode(user_question)"
   ]
  },
  {
   "cell_type": "markdown",
   "id": "4c390041-defd-4c56-8a2d-dd0bef19bcbd",
   "metadata": {},
   "source": [
    "#### Reference\n",
    "\n",
    "* https://www.elastic.co/guide/en/elasticsearch/reference/current/query-dsl-simple-query-string-query.html\n",
    "* https://www.elastic.co/guide/en/elasticsearch/reference/current/query-filter-context.html"
   ]
  },
  {
   "cell_type": "code",
   "execution_count": 36,
   "id": "25b9f769-f781-4e48-a2ee-5f2577f81f74",
   "metadata": {},
   "outputs": [],
   "source": [
    "def elastic_search_knn(field, vector, course):\n",
    "    knn = {\n",
    "        \"field\": field,\n",
    "        \"query_vector\": vector,\n",
    "        \"k\": 5,\n",
    "        \"num_candidates\": 10000,\n",
    "        \"filter\": {\n",
    "            \"term\": {\n",
    "                \"course\": course\n",
    "            }\n",
    "        }\n",
    "    }\n",
    "\n",
    "    search_query = {\n",
    "        \"knn\": knn,\n",
    "        \"_source\": [\"text\", \"section\", \"question\", \"course\", \"id\"]\n",
    "    }\n",
    "\n",
    "    es_results = es_client.search(\n",
    "        index=index_name,\n",
    "        body=search_query\n",
    "    )\n",
    "    \n",
    "    result_docs = []\n",
    "    \n",
    "    for hit in es_results['hits']['hits']:\n",
    "        result_docs.append(hit['_source'])\n",
    "\n",
    "    return result_docs"
   ]
  },
  {
   "cell_type": "code",
   "execution_count": 37,
   "id": "88265b4d-c640-493b-94c7-1b7cacd0e905",
   "metadata": {},
   "outputs": [],
   "source": [
    "def question_vector_knn(q):\n",
    "    question = q['question']\n",
    "    course = q['course']\n",
    "\n",
    "    v_q = model.encode(question)\n",
    "\n",
    "    return elastic_search_knn('question_vector', vector_search_term, course)"
   ]
  },
  {
   "cell_type": "code",
   "execution_count": 38,
   "id": "a55abbbf-aeb9-4574-9799-0c2f34837aff",
   "metadata": {},
   "outputs": [],
   "source": [
    "def evaluate(ground_truth, search_function):\n",
    "    relevance_total = []\n",
    "\n",
    "    for q in tqdm(ground_truth):\n",
    "        doc_id = q['document']\n",
    "        results = search_function(q)\n",
    "        relevance = [d['id'] == doc_id for d in results]\n",
    "        relevance_total.append(relevance)\n",
    "\n",
    "    return {\n",
    "        'hit_rate': hit_rate(relevance_total),\n",
    "        'mrr': mrr(relevance_total),\n",
    "    }"
   ]
  },
  {
   "cell_type": "code",
   "execution_count": 39,
   "id": "b4e55e3b-77e7-4156-b31b-f0a0d2ed223e",
   "metadata": {},
   "outputs": [],
   "source": [
    "knn_query = {\n",
    "    \"field\": \"text_vector\",\n",
    "    \"query_vector\": vector_search_term,\n",
    "    \"k\": 5,\n",
    "    \"num_candidates\": 10000, \n",
    "}"
   ]
  },
  {
   "cell_type": "code",
   "execution_count": 40,
   "id": "d83c6e41-66b7-4384-b75c-7adb3fc36bcd",
   "metadata": {},
   "outputs": [],
   "source": [
    "response = es_client.search(\n",
    "    index=index_name,\n",
    "    body={\n",
    "        \"query\": {\n",
    "            \"bool\": {\n",
    "                \"must\": [\n",
    "                    {\n",
    "                        \"script_score\": {\n",
    "                            \"query\": {\"match_all\": {}},\n",
    "                            \"script\": {\n",
    "                                \"source\": \"\"\"\n",
    "                                    double cosineSimilarity = cosineSimilarity(params.query_vector, 'question_vector');\n",
    "                                    if (cosineSimilarity == -1.0) {\n",
    "                                        return 0.0; // Avoid negative scores, return 0\n",
    "                                    } else {\n",
    "                                        return cosineSimilarity + 1.0; // Normalize scores to be positive\n",
    "                                    }\n",
    "                                \"\"\",\n",
    "                                \"params\": {\"query_vector\": vector_search_term}\n",
    "                            }\n",
    "                        }\n",
    "                    }\n",
    "                ]\n",
    "            }\n",
    "        },\n",
    "        \"size\": 5,\n",
    "        \"sort\": [\n",
    "            {\"_score\": {\"order\": \"desc\"}} \n",
    "        ],\n",
    "        \"_source\": [\"id\", \"question\"]\n",
    "    }\n",
    ")"
   ]
  },
  {
   "cell_type": "code",
   "execution_count": 41,
   "id": "e1a10289-b3c0-46aa-91d4-52ce509e17e7",
   "metadata": {},
   "outputs": [
    {
     "data": {
      "text/plain": [
       "[{'_index': 'course-questions',\n",
       "  '_id': '8eiPw5ABi2qZzrh_BSAa',\n",
       "  '_score': 1.9345204,\n",
       "  '_source': {'question': 'The course has already started. Can I still join it?',\n",
       "   'id': 'ee58a693'}},\n",
       " {'_index': 'course-questions',\n",
       "  '_id': 'MuiOw5ABi2qZzrh_3h86',\n",
       "  '_score': 1.7614222,\n",
       "  '_source': {'question': 'Course - Can I still join the course after the start date?',\n",
       "   'id': '7842b56a'}},\n",
       " {'_index': 'course-questions',\n",
       "  '_id': 'N-iOw5ABi2qZzrh_3h-r',\n",
       "  '_score': 1.7263663,\n",
       "  '_source': {'question': 'Course - Can I follow the course after it finishes?',\n",
       "   'id': 'a482086d'}},\n",
       " {'_index': 'course-questions',\n",
       "  '_id': '9OiPw5ABi2qZzrh_BSBf',\n",
       "  '_score': 1.6746192,\n",
       "  '_source': {'question': 'I just joined. What should I do next? How can I access course materials?',\n",
       "   'id': '0a278fb2'}},\n",
       " {'_index': 'course-questions',\n",
       "  '_id': 'MOiOw5ABi2qZzrh_3h8F',\n",
       "  '_score': 1.6439786,\n",
       "  '_source': {'question': 'Course - When will the course start?',\n",
       "   'id': 'c02e79ef'}}]"
      ]
     },
     "execution_count": 41,
     "metadata": {},
     "output_type": "execute_result"
    }
   ],
   "source": [
    "response[\"hits\"][\"hits\"]"
   ]
  },
  {
   "cell_type": "markdown",
   "id": "86ad48bb-461d-45a6-b027-db0274988055",
   "metadata": {},
   "source": [
    "What's the ID of the document with the highest score?"
   ]
  },
  {
   "cell_type": "markdown",
   "id": "d425479a-18bf-4059-b519-d58c230f2de4",
   "metadata": {},
   "source": [
    "### A5. The ID of the document with the highest score that we assigned is ee58a693."
   ]
  },
  {
   "cell_type": "markdown",
   "id": "b289c2f6-762c-4bc6-a65f-dc1110ead821",
   "metadata": {},
   "source": [
    "### Q6. Hit-rate for Elasticsearch\n",
    "\n",
    "The search engine we used in Q4 computed the similarity between the query and ALL the vectors in our database. Usually this is not practical, as we may have a lot of data.\n",
    "\n",
    "Elasticsearch uses approximate techniques to make it faster.\n",
    "\n",
    "Let's evaluate how worse the results are when we switch from exact search (as in Q4) to approximate search with Elastic."
   ]
  },
  {
   "cell_type": "code",
   "execution_count": 42,
   "id": "22f70d95-68d7-46de-82fa-a3dbcd354b90",
   "metadata": {},
   "outputs": [
    {
     "data": {
      "application/vnd.jupyter.widget-view+json": {
       "model_id": "588e52eca8aa43d1a8823779ceee9b66",
       "version_major": 2,
       "version_minor": 0
      },
      "text/plain": [
       "  0%|          | 0/1830 [00:00<?, ?it/s]"
      ]
     },
     "metadata": {},
     "output_type": "display_data"
    },
    {
     "data": {
      "text/plain": [
       "{'hit_rate': 0.01366120218579235, 'mrr': 0.006238615664845174}"
      ]
     },
     "execution_count": 42,
     "metadata": {},
     "output_type": "execute_result"
    }
   ],
   "source": [
    "evaluate(ground_truth, question_vector_knn)"
   ]
  },
  {
   "cell_type": "markdown",
   "id": "367fddad-0549-4496-b743-f33e3685d426",
   "metadata": {},
   "source": [
    "What's hit rate for our dataset for Elastic?\n",
    "\n",
    "* 0.93\n",
    "* 0.73\n",
    "* 0.53\n",
    "* 0.33"
   ]
  },
  {
   "cell_type": "markdown",
   "id": "5ef0114a-82d3-424a-b1f5-538777139bea",
   "metadata": {},
   "source": [
    "### A6.  The closest answer is 0.33."
   ]
  },
  {
   "cell_type": "code",
   "execution_count": null,
   "id": "4c35e261-f102-4f5c-9067-0f8b4eae26be",
   "metadata": {},
   "outputs": [],
   "source": []
  }
 ],
 "metadata": {
  "kernelspec": {
   "display_name": "Python 3 (ipykernel)",
   "language": "python",
   "name": "python3"
  },
  "language_info": {
   "codemirror_mode": {
    "name": "ipython",
    "version": 3
   },
   "file_extension": ".py",
   "mimetype": "text/x-python",
   "name": "python",
   "nbconvert_exporter": "python",
   "pygments_lexer": "ipython3",
   "version": "3.10.13"
  }
 },
 "nbformat": 4,
 "nbformat_minor": 5
}
